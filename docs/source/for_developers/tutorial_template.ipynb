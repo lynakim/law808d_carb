{
 "cells": [
  {
   "cell_type": "markdown",
   "metadata": {},
   "source": [
    "# Tutorial Template\n",
    "\n",
    "* **Prepared by:**\n",
    "    \n",
    "    - Author 1\n",
    "    - Author 2\n",
    "\n",
    "* **Covered topics:**\n",
    "\n",
    "    - `Module 1`\n",
    "    - `Module 2`\n",
    "    - Another topic\n",
    "\n",
    "* **Update date:** YYYY-MM-DD\n",
    "* `qsdsan` **version:** X.X.X"
   ]
  }
 ],
 "metadata": {
  "kernelspec": {
   "display_name": "Python 3",
   "language": "python",
   "name": "python3"
  },
  "language_info": {
   "codemirror_mode": {
    "name": "ipython",
    "version": 3
   },
   "file_extension": ".py",
   "mimetype": "text/x-python",
   "name": "python",
   "nbconvert_exporter": "python",
   "pygments_lexer": "ipython3",
   "version": "3.7.6"
  }
 },
 "nbformat": 4,
 "nbformat_minor": 4
}
